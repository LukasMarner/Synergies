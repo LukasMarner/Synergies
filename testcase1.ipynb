{
 "cells": [
  {
   "cell_type": "markdown",
   "metadata": {},
   "source": [
    "Test case 1"
   ]
  },
  {
   "cell_type": "code",
   "execution_count": 1,
   "metadata": {},
   "outputs": [
    {
     "name": "stdout",
     "output_type": "stream",
     "text": [
      "{'pageSize': 50, 'lastRecordId': '67091f95f84b6b938a0dafb6', 'results': [[{'Measurement': {'measuredDateTime': '2022-03-09T17:30:00.000Z', 'name': 'Allinge', 'scale': -1.1372100904367235, 'value': 0.6565685518388013}}, {'Measurement': {'measuredDateTime': '2022-03-09T17:30:00.000Z', 'name': 'Aakirkeby', 'scale': -0.4377654294871376, 'value': 0.2527439885563111}}, {'Measurement': {'measuredDateTime': '2022-03-09T17:30:00.000Z', 'name': 'Bodilsker', 'scale': 1.6316757202148, 'value': 0.4619026184082}}, {'Measurement': {'measuredDateTime': '2022-03-09T17:30:00.000Z', 'name': 'Gudhjem', 'scale': -0.1471661409782912, 'value': 0.714728271006466}}, {'Measurement': {'measuredDateTime': '2022-03-09T17:30:00.000Z', 'name': 'Hasle', 'scale': -0.47953033447266, 'value': 3.1659088134766}}, {'Measurement': {'measuredDateTime': '2022-03-09T17:30:00.000Z', 'name': 'Nexo', 'scale': -0.065460205078125, 'value': 2.5488662719727}}, {'Measurement': {'measuredDateTime': '2022-03-09T17:30:00.000Z', 'name': 'Olsker', 'scale': 0.100189208984375, 'value': 1.35610198974609}}, {'Measurement': {'measuredDateTime': '2022-03-09T17:30:00.000Z', 'name': 'Osterlars', 'scale': -0.739106178283691, 'value': 1.53428840637207}}, {'Measurement': {'measuredDateTime': '2022-03-09T17:30:00.000Z', 'name': 'Povlsker', 'scale': -0.517963409423828, 'value': 1.2418155670166}}, {'Measurement': {'measuredDateTime': '2022-03-09T17:30:00.000Z', 'name': 'RNO', 'scale': -1.0741579987806311, 'value': 0.6201654097481873}}, {'Measurement': {'measuredDateTime': '2022-03-09T17:30:00.000Z', 'name': 'RNS', 'scale': -1.1588318360486254, 'value': 0.6690518724881822}}, {'Measurement': {'measuredDateTime': '2022-03-09T17:30:00.000Z', 'name': 'Snorrebakken', 'scale': -0.481428146362305, 'value': 1.36360168457031}}, {'Measurement': {'measuredDateTime': '2022-03-09T17:30:00.000Z', 'name': 'Svaneke', 'scale': 1.6557731628418, 'value': 1.62329483032227}}, {'Measurement': {'measuredDateTime': '2022-03-09T17:30:00.000Z', 'name': 'Vesthavnen', 'scale': -0.3859653187525326, 'value': -0.2228371806796343}}, {'Measurement': {'measuredDateTime': '2022-03-09T17:30:00.000Z', 'name': 'Viadukten', 'scale': -0.8023890587755239, 'value': 0.4632595390788593}}, {'Measurement': {'measuredDateTime': '2022-03-09T17:30:00.000Z', 'name': 'Vaerket', 'scale': 0, 'value': 0.0138800000000005}}, {'Measurement': {'measuredDateTime': '2022-03-09T17:45:00.000Z', 'name': 'Allinge', 'scale': -1.1341140205400675, 'value': 0.6547810350505369}}, {'Measurement': {'measuredDateTime': '2022-03-09T17:45:00.000Z', 'name': 'Aakirkeby', 'scale': -0.4240278287543476, 'value': 0.2448125810752151}}, {'Measurement': {'measuredDateTime': '2022-03-09T17:45:00.000Z', 'name': 'Bodilsker', 'scale': 1.6316757202148, 'value': 0.42562866210938}}, {'Measurement': {'measuredDateTime': '2022-03-09T17:45:00.000Z', 'name': 'Gudhjem', 'scale': -0.1357810247438271, 'value': 0.735260752944411}}, {'Measurement': {'measuredDateTime': '2022-03-09T17:45:00.000Z', 'name': 'Hasle', 'scale': -0.47141265869141, 'value': 3.1577911376953}}, {'Measurement': {'measuredDateTime': '2022-03-09T17:45:00.000Z', 'name': 'Nexo', 'scale': -0.016746520996094, 'value': 2.6056976318359}}, {'Measurement': {'measuredDateTime': '2022-03-09T17:45:00.000Z', 'name': 'Olsker', 'scale': 0.100189208984375, 'value': 1.35610198974609}}, {'Measurement': {'measuredDateTime': '2022-03-09T17:45:00.000Z', 'name': 'Osterlars', 'scale': -0.739106178283691, 'value': 1.53428840637207}}, {'Measurement': {'measuredDateTime': '2022-03-09T17:45:00.000Z', 'name': 'Povlsker', 'scale': -0.517963409423828, 'value': 1.2418155670166}}, {'Measurement': {'measuredDateTime': '2022-03-09T17:45:00.000Z', 'name': 'RNO', 'scale': -1.0741579987806311, 'value': 0.6201654097481873}}, {'Measurement': {'measuredDateTime': '2022-03-09T17:45:00.000Z', 'name': 'RNS', 'scale': -1.1588318360486254, 'value': 0.6690518724881822}}, {'Measurement': {'measuredDateTime': '2022-03-09T17:45:00.000Z', 'name': 'Snorrebakken', 'scale': -0.481428146362305, 'value': 1.36360168457031}}, {'Measurement': {'measuredDateTime': '2022-03-09T17:45:00.000Z', 'name': 'Svaneke', 'scale': 1.6557731628418, 'value': 1.62329483032227}}, {'Measurement': {'measuredDateTime': '2022-03-09T17:45:00.000Z', 'name': 'Vesthavnen', 'scale': -0.3859653187525326, 'value': -0.2228371806796343}}, {'Measurement': {'measuredDateTime': '2022-03-09T17:45:00.000Z', 'name': 'Viadukten', 'scale': -0.8023890587755239, 'value': 0.4632595390788593}}, {'Measurement': {'measuredDateTime': '2022-03-09T17:45:00.000Z', 'name': 'Vaerket', 'scale': 0, 'value': 0.0016500000000002}}, {'Measurement': {'measuredDateTime': '2022-03-09T18:00:00.000Z', 'name': 'Allinge', 'scale': -1.112853171513028, 'value': 0.6425060781415757}}, {'Measurement': {'measuredDateTime': '2022-03-09T18:00:00.000Z', 'name': 'Aakirkeby', 'scale': -0.4071514888601579, 'value': 0.2350690216943691}}, {'Measurement': {'measuredDateTime': '2022-03-09T18:00:00.000Z', 'name': 'Bodilsker', 'scale': 1.5591278076172, 'value': 0.38028717041016}}, {'Measurement': {'measuredDateTime': '2022-03-09T18:00:00.000Z', 'name': 'Gudhjem', 'scale': -0.1505851605319194, 'value': 0.6918393438023233}}, {'Measurement': {'measuredDateTime': '2022-03-09T18:00:00.000Z', 'name': 'Hasle', 'scale': -0.46329116821289, 'value': 3.1577911376953}}, {'Measurement': {'measuredDateTime': '2022-03-09T18:00:00.000Z', 'name': 'Nexo', 'scale': -0.10605621337891, 'value': 2.4027214050293}}, {'Measurement': {'measuredDateTime': '2022-03-09T18:00:00.000Z', 'name': 'Olsker', 'scale': 0.100189208984375, 'value': 1.35610198974609}}, {'Measurement': {'measuredDateTime': '2022-03-09T18:00:00.000Z', 'name': 'Osterlars', 'scale': -0.739106178283691, 'value': 1.53428840637207}}, {'Measurement': {'measuredDateTime': '2022-03-09T18:00:00.000Z', 'name': 'Povlsker', 'scale': -0.517963409423828, 'value': 1.2418155670166}}, {'Measurement': {'measuredDateTime': '2022-03-09T18:00:00.000Z', 'name': 'RNO', 'scale': -1.0741579987806311, 'value': 0.6201654097481873}}, {'Measurement': {'measuredDateTime': '2022-03-09T18:00:00.000Z', 'name': 'RNS', 'scale': -1.1588318360486254, 'value': 0.6690518724881822}}, {'Measurement': {'measuredDateTime': '2022-03-09T18:00:00.000Z', 'name': 'Snorrebakken', 'scale': -0.481428146362305, 'value': 1.36360168457031}}, {'Measurement': {'measuredDateTime': '2022-03-09T18:00:00.000Z', 'name': 'Svaneke', 'scale': 1.6557731628418, 'value': 1.62329483032227}}, {'Measurement': {'measuredDateTime': '2022-03-09T18:00:00.000Z', 'name': 'Vesthavnen', 'scale': -0.3859653187525326, 'value': -0.2228371806796343}}, {'Measurement': {'measuredDateTime': '2022-03-09T18:00:00.000Z', 'name': 'Viadukten', 'scale': -0.8023890587755239, 'value': 0.4632595390788593}}, {'Measurement': {'measuredDateTime': '2022-03-09T18:00:00.000Z', 'name': 'Vaerket', 'scale': 0, 'value': -0.0110099999999996}}]]}\n",
      "      Substation  Active Power  Reactive Power                  datetime\n",
      "0        Allinge     -1.137210        0.656569  2022-03-09T17:30:00.000Z\n",
      "1      Aakirkeby     -0.437765        0.252744  2022-03-09T17:30:00.000Z\n",
      "2      Bodilsker      1.631676        0.461903  2022-03-09T17:30:00.000Z\n",
      "3        Gudhjem     -0.147166        0.714728  2022-03-09T17:30:00.000Z\n",
      "4          Hasle     -0.479530        3.165909  2022-03-09T17:30:00.000Z\n",
      "5           Nexo     -0.065460        2.548866  2022-03-09T17:30:00.000Z\n",
      "6         Olsker      0.100189        1.356102  2022-03-09T17:30:00.000Z\n",
      "7      Osterlars     -0.739106        1.534288  2022-03-09T17:30:00.000Z\n",
      "8       Povlsker     -0.517963        1.241816  2022-03-09T17:30:00.000Z\n",
      "9            RNO     -1.074158        0.620165  2022-03-09T17:30:00.000Z\n",
      "10           RNS     -1.158832        0.669052  2022-03-09T17:30:00.000Z\n",
      "11  Snorrebakken     -0.481428        1.363602  2022-03-09T17:30:00.000Z\n",
      "12       Svaneke      1.655773        1.623295  2022-03-09T17:30:00.000Z\n",
      "13    Vesthavnen     -0.385965       -0.222837  2022-03-09T17:30:00.000Z\n",
      "14     Viadukten     -0.802389        0.463260  2022-03-09T17:30:00.000Z\n",
      "15       Vaerket      0.000000        0.013880  2022-03-09T17:30:00.000Z\n",
      "16       Allinge     -1.134114        0.654781  2022-03-09T17:45:00.000Z\n",
      "17     Aakirkeby     -0.424028        0.244813  2022-03-09T17:45:00.000Z\n",
      "18     Bodilsker      1.631676        0.425629  2022-03-09T17:45:00.000Z\n",
      "19       Gudhjem     -0.135781        0.735261  2022-03-09T17:45:00.000Z\n",
      "20         Hasle     -0.471413        3.157791  2022-03-09T17:45:00.000Z\n",
      "21          Nexo     -0.016747        2.605698  2022-03-09T17:45:00.000Z\n",
      "22        Olsker      0.100189        1.356102  2022-03-09T17:45:00.000Z\n",
      "23     Osterlars     -0.739106        1.534288  2022-03-09T17:45:00.000Z\n",
      "24      Povlsker     -0.517963        1.241816  2022-03-09T17:45:00.000Z\n",
      "25           RNO     -1.074158        0.620165  2022-03-09T17:45:00.000Z\n",
      "26           RNS     -1.158832        0.669052  2022-03-09T17:45:00.000Z\n",
      "27  Snorrebakken     -0.481428        1.363602  2022-03-09T17:45:00.000Z\n",
      "28       Svaneke      1.655773        1.623295  2022-03-09T17:45:00.000Z\n",
      "29    Vesthavnen     -0.385965       -0.222837  2022-03-09T17:45:00.000Z\n",
      "30     Viadukten     -0.802389        0.463260  2022-03-09T17:45:00.000Z\n",
      "31       Vaerket      0.000000        0.001650  2022-03-09T17:45:00.000Z\n",
      "32       Allinge     -1.112853        0.642506  2022-03-09T18:00:00.000Z\n",
      "33     Aakirkeby     -0.407151        0.235069  2022-03-09T18:00:00.000Z\n",
      "34     Bodilsker      1.559128        0.380287  2022-03-09T18:00:00.000Z\n",
      "35       Gudhjem     -0.150585        0.691839  2022-03-09T18:00:00.000Z\n",
      "36         Hasle     -0.463291        3.157791  2022-03-09T18:00:00.000Z\n",
      "37          Nexo     -0.106056        2.402721  2022-03-09T18:00:00.000Z\n",
      "38        Olsker      0.100189        1.356102  2022-03-09T18:00:00.000Z\n",
      "39     Osterlars     -0.739106        1.534288  2022-03-09T18:00:00.000Z\n",
      "40      Povlsker     -0.517963        1.241816  2022-03-09T18:00:00.000Z\n",
      "41           RNO     -1.074158        0.620165  2022-03-09T18:00:00.000Z\n",
      "42           RNS     -1.158832        0.669052  2022-03-09T18:00:00.000Z\n",
      "43  Snorrebakken     -0.481428        1.363602  2022-03-09T18:00:00.000Z\n",
      "44       Svaneke      1.655773        1.623295  2022-03-09T18:00:00.000Z\n",
      "45    Vesthavnen     -0.385965       -0.222837  2022-03-09T18:00:00.000Z\n",
      "46     Viadukten     -0.802389        0.463260  2022-03-09T18:00:00.000Z\n",
      "47       Vaerket      0.000000       -0.011010  2022-03-09T18:00:00.000Z\n"
     ]
    }
   ],
   "source": [
    "# 'https://synergies-eds.eu/api/upload/dc805679-0321-46da-969f-b5ae886edd21'\n",
    "# #monitoring\n",
    "# 'https://synergies-eds.eu/api/monitoring/executions/data-checkin/2a8e4aed-4b65-4d7b-8e9b-25e6c39c5290/execution/<YOUR_EXECUTION_ID>/status'\n",
    "import synergies\n",
    "from synergies import *\n",
    "import pandas as pd\n",
    "# from synergies import Pipeline\n",
    "\n",
    "if __name__ == '__main__':\n",
    "    token = '0b73a901-aa2d-4fd3-9777-42852e3f6817'\n",
    "    upload_url = 'https://synergies-eds.eu/api/upload/dc805679-0321-46da-969f-b5ae886edd21'\n",
    "    monitor_url = 'https://synergies-eds.eu/api/monitoring/executions/data-checkin/2a8e4aed-4b65-4d7b-8e9b-25e6c39c5290/execution/'\n",
    "    payload = [    {        \"name\": \"t1s_cosphitrf1\",        \"timestamp\": \"2022-01-01T00:00:01\",        \"value\": 0.3    },    {        \"name\": \"t1s_cosphi\",        \"timestamp\": \"2022-01-01T00:00:01\",        \"value\": 0.5    }]\n",
    "    # result = pipeline.upload(payload)\n",
    "    # print(result)\n",
    "    # result = pipeline.check_status('f87b69b8-88d2-4a25-9ee2-5c640a06608d')\n",
    "    # print(result)\n",
    "    \n",
    "    retrieval_url = 'https://synergies-eds.eu/api/retrieval/0092ce2f-35ab-4ca4-9356-8bbc276e5dda/data'\n",
    "    retrieval_url = 'https://synergies-eds.eu/api/retrieval/804102bb-d0db-4615-98b0-0d58abe0ab1c/data'\n",
    "    pipeline = Pipeline(token, upload_url, monitor_url, retrieval_url)\n",
    "    # params = {    \"Measurement.name\": \"t1s_cosphitrf1\",    \"pageSize\": 1}\n",
    "    # result = pipeline.retrieve(params)\n",
    "\n",
    "    params = {    \"Measurement.name\": \"Allinge\"}\n",
    "    result = pipeline.retrieve(params)\n",
    "    print(result)\n",
    "\n",
    "\n",
    "# Extracting the results list from the data\n",
    "measurements = result['results'][0]\n",
    "\n",
    "# Parsing and storing each measurement in a DataFrame\n",
    "df_scada_meas = pd.DataFrame([{\n",
    "    'Substation': measurement['Measurement']['name'],\n",
    "    'Active Power': measurement['Measurement']['scale'],\n",
    "    'Reactive Power': measurement['Measurement']['value'],\n",
    "    'datetime': measurement['Measurement']['measuredDateTime']\n",
    "} for measurement in measurements])\n",
    "\n",
    "print(df_scada_meas)\n"
   ]
  },
  {
   "cell_type": "code",
   "execution_count": null,
   "metadata": {},
   "outputs": [],
   "source": [
    "df_scada_meas"
   ]
  }
 ],
 "metadata": {
  "kernelspec": {
   "display_name": "digitaltwinv1",
   "language": "python",
   "name": "python3"
  },
  "language_info": {
   "codemirror_mode": {
    "name": "ipython",
    "version": 3
   },
   "file_extension": ".py",
   "mimetype": "text/x-python",
   "name": "python",
   "nbconvert_exporter": "python",
   "pygments_lexer": "ipython3",
   "version": "3.8.19"
  }
 },
 "nbformat": 4,
 "nbformat_minor": 2
}
