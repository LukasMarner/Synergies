{
 "cells": [
  {
   "cell_type": "code",
   "execution_count": 1,
   "id": "8eb4567c-495b-4770-bd9d-b9a68edd0199",
   "metadata": {},
   "outputs": [],
   "source": [
    "# ---------------------------------------------------------------------------------------\n",
    "# Main Script \n",
    "# ---------------------------------------------------------------------------------------\n",
    "\n",
    "# ===========================\n",
    "# Import Required Libraries\n",
    "# ===========================\n",
    "import re\n",
    "import pandas as pd\n",
    "import numpy as np\n",
    "import pandapower.networks\n",
    "import pandapower as pp\n",
    "import os\n",
    "import copy\n",
    "import unicodedata\n",
    "\n",
    "# ===============================\n",
    "# Import Custom Function Modules\n",
    "# ===============================\n",
    "# load_gen_assignment.py includes:\n",
    "#   - aggregated_measurements_substation()\n",
    "#   - assign_load_values_from_measurements()\n",
    "#   - assign_generators_values_from_measurements()\n",
    "#\n",
    "# rsa_engine.py includes:\n",
    "#   - real_time_security_assessment()\n",
    "\n",
    "import load_gen_assignment as lg\n",
    "import rsa_engine as rs"
   ]
  },
  {
   "cell_type": "code",
   "execution_count": null,
   "id": "81f646c0-faaf-4417-9fc9-98e796ab035b",
   "metadata": {},
   "outputs": [
    {
     "name": "stdout",
     "output_type": "stream",
     "text": [
      "Root Directory:  c:\\Users\\lukas\\OneDrive - Danmarks Tekniske Universitet\\SYNERGIES Project -- DTU Team - Lukas Tej Marner_SA Shared Folder\\DT_1_Engines\\E1\n"
     ]
    },
    {
     "name": "stderr",
     "output_type": "stream",
     "text": [
      "pandapowerNet-version is newer than your pandapower version. Please update pandapower `pip install --upgrade pandapower`.\n"
     ]
    }
   ],
   "source": [
    "# =======================================================================\n",
    "# NOTE:\n",
    "# If this script was originally written in Jupyter Notebook and you want \n",
    "# to convert it to a .py script, you can use the following command in terminal:\n",
    "# jupyter nbconvert --to script your_notebook.ipynb\n",
    "# =======================================================================\n",
    "\n",
    "# =================================\n",
    "# Define Substation Name Mapping\n",
    "# =================================\n",
    "# This list is used for substation name matching between load/gen data and measurements.\n",
    "substations = [\n",
    "    'Åkirkeby', 'Allinge', 'Bodilsker', 'Gudhjem', 'Hasle', 'Nexø', 'Olsker',\n",
    "    'Østerlars', 'Poulsker', 'Rønne Nord', 'Rønne Syd', 'Snorrebakken',\n",
    "    'Svaneke', 'Værket', 'Vesthavnen', 'Viadukten', 'Dalslunde'\n",
    "]\n",
    "\n",
    "# =======================================\n",
    "# Define Root Directory for File Access\n",
    "# =======================================\n",
    "root_dir = os.getcwd()\n",
    "print(\"Root Directory: \", root_dir)\n",
    "\n",
    "# ==========================================\n",
    "# Load the Network Topology from Excel File\n",
    "# ==========================================\n",
    "# The Excel file contains the buses, lines, loads, etc. in the pandapower format.\n",
    "net = pp.from_excel(root_dir + \".xlsx\")"
   ]
  },
  {
   "cell_type": "code",
   "execution_count": 3,
   "id": "6f5ab69a-0468-49ab-8713-ffed4b6a2d7e",
   "metadata": {},
   "outputs": [
    {
     "name": "stdout",
     "output_type": "stream",
     "text": [
      "\n",
      "==================== Real-Time Security Assessment Engine (RSAE) ====================\n",
      "\n",
      "[0] Mapping bus names to line endpoints...\n",
      "[1] Running base case power flow...\n",
      "    ✅ Power flow successful.\n",
      "\n",
      "[2] Checking for voltage violations...\n",
      "    ⚡ Voltage Violations: 20\n",
      "[3] Checking for thermal overloads on lines...\n",
      "    🌡️ Line Overloads: 0\n",
      "\n",
      "📊 ================= Security Assessment Dashboard ================ 📊\n",
      "\n",
      "🔺 Voltage Violations Detected:\n",
      "    - Bus 36 (Viadukten 10kV): Voltage = 1.161 p.u.\n",
      "    - Bus 37 (Gl Dampværk B 10.5 kV): Voltage = 1.201 p.u.\n",
      "    - Bus 38 (Gl Dampværk C Trf 2): Voltage = 1.201 p.u.\n",
      "    - Bus 39 (Værket 10kV): Voltage = 1.201 p.u.\n",
      "    - Bus 40 (Gl Dampværk A 10.5 kV): Voltage = 1.201 p.u.\n",
      "    - Bus 42 (Rønne Nord 10 kV): Voltage = 1.161 p.u.\n",
      "    - Bus 43 (Nexø 10.5 kV): Voltage = 1.160 p.u.\n",
      "    - Bus 44 (Bodilsker 10.5 kV): Voltage = 1.142 p.u.\n",
      "    - Bus 45 (Poulsker 10.5 kV): Voltage = 1.159 p.u.\n",
      "    - Bus 46 (Åkirkeby 10.5 kV): Voltage = 1.189 p.u.\n",
      "    - Bus 47 (Snorrebakken 10 kV): Voltage = 1.162 p.u.\n",
      "    - Bus 48 (Vesthavnen 10 kV): Voltage = 1.162 p.u.\n",
      "    - Bus 49 (Hasle 10kV): Voltage = 1.168 p.u.\n",
      "    - Bus 55 (Rønne Syd 10.5 kV): Voltage = 1.140 p.u.\n",
      "    - Bus 56 (Værket Diesler): Voltage = 1.216 p.u.\n",
      "    - Bus 58 (Olsker 10 kV): Voltage = 1.134 p.u.\n",
      "    - Bus 59 (Allinge 10 kV): Voltage = 1.162 p.u.\n",
      "    - Bus 60 (Østerlars 10 kV): Voltage = 1.161 p.u.\n",
      "    - Bus 61 (Gudhjem 10 kV): Voltage = 1.132 p.u.\n",
      "    - Bus 62 (Svaneke 10 kV): Voltage = 1.138 p.u.\n",
      "\n",
      "----------------------------------------------------------------------\n",
      "\n",
      "✅ No line overloads.\n",
      "\n",
      "----------------------------------------------------------------------\n",
      "\n",
      "\n",
      "===============================================================================\n",
      "\n"
     ]
    }
   ],
   "source": [
    "# ==================================================================\n",
    "# 🔄 Step 1: Aggregate Measurement Data for the Target Time Snapshot\n",
    "# ==================================================================\n",
    "# This retrieves substation-level active power production and consumption.\n",
    "measurement_prod_cons = lg.aggregated_measurements_substation('2022-01-01 00:15:00')\n",
    "\n",
    "# ======================================================================\n",
    "# ⚡ Step 2: Assign Active & Reactive Power Values to Loads in the Network\n",
    "# ======================================================================\n",
    "# Assigns p_mw and q_mvar to net.load based on measurements and a lagging power factor.\n",
    "net = lg.assign_load_values_from_measurements(net, measurement_prod_cons, substations)\n",
    "\n",
    "# ======================================================================\n",
    "# ⚙️ Step 3: Assign Active & Reactive Power to Static Generators (sgen)\n",
    "# ======================================================================\n",
    "# Creates net.sgen and populates it based on measured substation-level production.\n",
    "net = lg.assign_generators_values_from_measurements(net, measurement_prod_cons, substations)\n",
    "\n",
    "# ==========================================================\n",
    "# 🔎 Step 4: Run Real-Time Security Assessment on the Network\n",
    "# ==========================================================\n",
    "# This runs a base power flow, checks voltage limits, line loading, and prints results.\n",
    "net = rs.real_time_security_assessment(net)"
   ]
  },
  {
   "cell_type": "code",
   "execution_count": null,
   "id": "42099966-27e4-454c-afe1-ec0c22685957",
   "metadata": {},
   "outputs": [],
   "source": []
  }
 ],
 "metadata": {
  "kernelspec": {
   "display_name": "Python 3",
   "language": "python",
   "name": "python3"
  },
  "language_info": {
   "codemirror_mode": {
    "name": "ipython",
    "version": 3
   },
   "file_extension": ".py",
   "mimetype": "text/x-python",
   "name": "python",
   "nbconvert_exporter": "python",
   "pygments_lexer": "ipython3",
   "version": "3.8.20"
  }
 },
 "nbformat": 4,
 "nbformat_minor": 5
}
